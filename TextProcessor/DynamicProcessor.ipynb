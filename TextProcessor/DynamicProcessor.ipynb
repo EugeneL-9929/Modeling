{
 "cells": [
  {
   "cell_type": "code",
   "execution_count": 2,
   "id": "18cc0eb4",
   "metadata": {},
   "outputs": [],
   "source": [
    "import os\n",
    "# os.system('.env/Scripts/activate')\n",
    "# os.system('pip install datasets')\n",
    "import datasets\n",
    "from datasets import load_dataset\n",
    "raw_dataset = load_dataset('wmt/wmt19', \"zh-en\")"
   ]
  },
  {
   "cell_type": "code",
   "execution_count": 3,
   "id": "433b3053",
   "metadata": {},
   "outputs": [],
   "source": [
    "from datasets import Features, Value, DatasetDict\n",
    "self_dataset = load_dataset('csv', data_files='../Data/news_data.csv', features=Features({'abstract':Value('string')}))\n",
    "cut_raw_dataset = DatasetDict(\n",
    "    {\n",
    "        \"train\" : raw_dataset[\"train\"].select(range(210000)),\n",
    "        \"validation\" : raw_dataset[\"validation\"]\n",
    "    }\n",
    ")\n",
    "del raw_dataset\n"
   ]
  },
  {
   "cell_type": "code",
   "execution_count": 5,
   "id": "fcf1c1ef",
   "metadata": {},
   "outputs": [
    {
     "name": "stderr",
     "output_type": "stream",
     "text": [
      "d:\\Yujun_Doc\\Modeling\\.env\\lib\\site-packages\\huggingface_hub\\file_download.py:143: UserWarning: `huggingface_hub` cache-system uses symlinks by default to efficiently store duplicated files but your machine does not support them in C:\\Users\\yukze\\.cache\\huggingface\\hub\\models--Helsinki-NLP--opus-mt-zh-en. Caching files will still work but in a degraded version that might require more space on your disk. This warning can be disabled by setting the `HF_HUB_DISABLE_SYMLINKS_WARNING` environment variable. For more details, see https://huggingface.co/docs/huggingface_hub/how-to-cache#limitations.\n",
      "To support symlinks on Windows, you either need to activate Developer Mode or to run Python as an administrator. In order to activate developer mode, see this article: https://docs.microsoft.com/en-us/windows/apps/get-started/enable-your-device-for-development\n",
      "  warnings.warn(message)\n",
      "d:\\Yujun_Doc\\Modeling\\.env\\lib\\site-packages\\transformers\\models\\marian\\tokenization_marian.py:175: UserWarning: Recommended: pip install sacremoses.\n",
      "  warnings.warn(\"Recommended: pip install sacremoses.\")\n",
      "Device set to use cpu\n"
     ]
    },
    {
     "data": {
      "text/plain": [
       "[{'translation_text': 'The stock of Ying Wei Da has increased by 10% today!'}]"
      ]
     },
     "execution_count": 5,
     "metadata": {},
     "output_type": "execute_result"
    }
   ],
   "source": [
    "from transformers import pipeline\n",
    "# os.system('pip install sentencepiece')\n",
    "split_datasets = cut_raw_dataset['train'].train_test_split(train_size=0.9, seed=20)\n",
    "translator = pipeline('translation', model='Helsinki-NLP/opus-mt-zh-en')\n",
    "translator(\"今天英伟达的股票激增10%！\")\n",
    "# print(split_datasets)\n",
    "# print(split_datasets['train'][1]['translation'])"
   ]
  },
  {
   "cell_type": "code",
   "execution_count": 6,
   "id": "01e34211",
   "metadata": {},
   "outputs": [
    {
     "data": {
      "text/plain": [
       "[{'translation_text': 'The model uses a wordbox based on SentencePiece. SentencePiece is a popular word division algorithm that is particularly suitable for multi-language text processing.'}]"
      ]
     },
     "execution_count": 6,
     "metadata": {},
     "output_type": "execute_result"
    }
   ],
   "source": [
    "translator('模型使用的是基于 SentencePiece 的分词器。SentencePiece 是一种流行的分词算法，特别适合处理多语言文本。')"
   ]
  }
 ],
 "metadata": {
  "kernelspec": {
   "display_name": ".env",
   "language": "python",
   "name": "python3"
  },
  "language_info": {
   "codemirror_mode": {
    "name": "ipython",
    "version": 3
   },
   "file_extension": ".py",
   "mimetype": "text/x-python",
   "name": "python",
   "nbconvert_exporter": "python",
   "pygments_lexer": "ipython3",
   "version": "3.9.23"
  }
 },
 "nbformat": 4,
 "nbformat_minor": 5
}
