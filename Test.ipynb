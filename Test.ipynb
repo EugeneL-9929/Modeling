{
 "cells": [
  {
   "cell_type": "code",
   "execution_count": 1,
   "id": "81f481d7",
   "metadata": {},
   "outputs": [],
   "source": [
    "import numpy as np \n",
    "import math as m \n",
    "import WallStreetCNNewsSpider as wscns \n",
    "from bs4 import BeautifulSoup"
   ]
  },
  {
   "cell_type": "code",
   "execution_count": 2,
   "id": "513da5ef",
   "metadata": {},
   "outputs": [
    {
     "name": "stdout",
     "output_type": "stream",
     "text": [
      "initial page length: 993\n",
      "updated page length: 4305\n"
     ]
    }
   ],
   "source": [
    "htmlContent = wscns.getHtmlListScrollLoading(1)\n",
    "returnValue = wscns.parseHtmlList(htmlContent)"
   ]
  },
  {
   "cell_type": "code",
   "execution_count": null,
   "id": "5912e080",
   "metadata": {},
   "outputs": [],
   "source": []
  },
  {
   "cell_type": "code",
   "execution_count": null,
   "id": "1b9d7a52",
   "metadata": {},
   "outputs": [],
   "source": []
  }
 ],
 "metadata": {
  "kernelspec": {
   "display_name": "base",
   "language": "python",
   "name": "python3"
  },
  "language_info": {
   "codemirror_mode": {
    "name": "ipython",
    "version": 3
   },
   "file_extension": ".py",
   "mimetype": "text/x-python",
   "name": "python",
   "nbconvert_exporter": "python",
   "pygments_lexer": "ipython3",
   "version": "3.8.8"
  }
 },
 "nbformat": 4,
 "nbformat_minor": 5
}
