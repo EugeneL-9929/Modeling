{
 "cells": [
  {
   "cell_type": "code",
   "execution_count": null,
   "id": "81f481d7",
   "metadata": {},
   "outputs": [],
   "source": [
    "import numpy as np \n",
    "import math as m \n",
    "import WallStreetCNNewsSpider as wscns \n",
    "from bs4 import BeautifulSoup"
   ]
  },
  {
   "cell_type": "code",
   "execution_count": null,
   "id": "513da5ef",
   "metadata": {},
   "outputs": [],
   "source": [
    "htmlContent = wscns.getHtmlListScrollLoading(1)\n",
    "returnValue = wscns.parseHtmlList(htmlContent)"
   ]
  },
  {
   "cell_type": "code",
   "execution_count": null,
   "id": "5912e080",
   "metadata": {},
   "outputs": [],
   "source": [
    "for i in returnValue['authors']:\n",
    "    print(i)"
   ]
  },
  {
   "cell_type": "code",
   "execution_count": null,
   "id": "1b9d7a52",
   "metadata": {},
   "outputs": [],
   "source": [
    "from translate import Translator\n",
    "for i in returnValue['abstracts']:\n",
    "    print(i)\n",
    "\n"
   ]
  },
  {
   "cell_type": "code",
   "execution_count": 17,
   "id": "dc134053",
   "metadata": {},
   "outputs": [
    {
     "name": "stdout",
     "output_type": "stream",
     "text": [
      "visited following url: https://api-one-wscn.awtmt.com/apiv1/content/information-flow?channel=global&accept=article&cursor=&limit=5&action=upglide\n",
      "run getJson to initiate nextCursor and returnData\n",
      "initialization status code: 200\n",
      "initialization results: Sure, I can help with that. Please go ahead and send me the Chinese text you would like me to translate into English.\n",
      "《工作方案》提出2025—2026年，钢铁行业增加值年均增长4%左右，经济效益企稳回升，市场供需更趋平衡，产业结构更加优化，有效供给能力不断增强，绿色低碳、数字化发展水平显著提升的总目标。实施产能产量精准调控、推进钢铁企业分级分类管理，严禁新增产能，引导资源要素向优势企业集聚，通过产量调控促进优胜劣汰，实现供需动态平衡。\n",
      "盘面上，个股跌多涨少，沪深京三市约3500股飘绿，上午半天成交1.35万亿。沪深两市半日成交额1.34万亿，较上个交易日缩量1500亿。板块方面，消费电子、存储芯片、贵金属、算力等板块领涨；旅游、影视、光伏设备、锂矿等板块领跌。\n",
      "华西证券认为，华为通过采用多端口聚合与高密封装技术，实现TB级超大带宽，Atlas 950互联带宽达16.3PB/s，是英伟达NVL144的62倍。通过平等架构和统一协议，实现2.1微秒超低时延，相比当前3微秒提升24%。引入百纳秒级故障检测、保护切换机制和高可靠互联协议，支持长距离多机柜互联。\n",
      "中债收益率曲线 “陡峭化” ！中国经济数据、中债收益率曲线与资产联动暗藏关键信号，现在该警惕还是布局？\n",
      "华泰证券认为，关税冲击下美国企业盈利维持韧性主要源于多重对冲因素。虽然关税对企业盈利影响约4%，但美元贬值提振海外收入、关税前抢库存锁定低成本、劳动力成本下降提供5个百分点缓冲。AI投资周期加速变现、\"大而美\"法案财政宽松、企业毛利率维持历史高位等因素进一步支撑。\n",
      "status code: 200\n",
      "status code: 200\n",
      "['\"Work Plan\" proposes that from 2025 to 2026, the added value of the steel industry will grow by an average of around 4% per year, economic benefits will stabilize and rise, market supply and demand will become more balanced, industrial structure will be further optimized, effective supply capacity will continue to strengthen, and the overall goal is to significantly improve the level of green, low-carbon, and digital development. Implement precise capacity and production control, promote hierarchical classification management of steel enterprises, strictly prohibit the addition of production capacity, guide resource elements to gather towards advantageous enterprises, promote survival of the fittest through production control, and achieve a dynamic supply-demand balance.', 'On the market front, individual stocks are more likely to fall than rise, with approximately 3,500 stocks in Shanghai, Shenzhen, and Beijing floating in the red, and a total trading volume of 1.35 trillion in the morning. The trading volume for Shanghai and Shenzhen in the first half of the day is 1.34 trillion, a decrease of 150 billion from the previous trading day. In terms of sectors, consumer electronics, storage chips, precious metals, and computing power led the gains; while tourism, film and television, photovoltaic equipment, and lithium mining led the declines.', 'Huaxi Securities believes that Huawei has achieved TB-level ultra-high bandwidth by adopting multi-port aggregation and high-density packaging technology, with the Atlas 950 interconnection bandwidth reaching 16.3PB/s, which is 62 times that of NVIDIA NVL144. By using an equal architecture and unified protocol, it achieves a super-low latency of 2.1 microseconds, a 24% improvement compared to the current 3 microseconds. It introduces nanosecond-level fault detection, protection switching mechanisms, and high-reliability interconnection protocols to support long-distance interconnection between multiple server cabinets.', 'The Chinese bond yield curve is \"steepening\"! The linkage between China\\'s economic data, the Chinese bond yield curve, and assets hides key signals. Should we be alert or should we strategize now?', 'Huatai Securities believes that under the impact of tariffs, the resilience of U.S. corporate profits is mainly due to multiple hedging factors. Although tariffs affect corporate profits by about 4%, the depreciation of the U.S. dollar boosts overseas income, pre-tariff stockpiling locks in low costs, and a decrease in labor costs provides a 5 percentage point buffer. Factors such as the acceleration of AI investment cycles, the \"big and beautiful\" act\\'s fiscal easing, and the maintenance of historically high gross profit margins further support this.']\n"
     ]
    }
   ],
   "source": [
    "import WallStreetCNNewsSpider as wscn\n",
    "import pandas as pd\n",
    "wsn = wscn.WallStreetNews(limit=5, channel='global')\n",
    "wsn.getJson()\n",
    "trans = wscn.Translator('please translate every line into english individually, every line aplit only without newline, no extra text return except the content i send')\n",
    "for i in range(1):\n",
    "    if i != 0:\n",
    "        wsn.getNewJson()\n",
    "    df = {'time': [], 'title': [], 'abstract': [], 'id': [], 'author': []}\n",
    "    timesList = wsn.getTimes()\n",
    "    timesList = [wsn.nyTimeZone(i) for i in timesList]\n",
    "    summaryList = wsn.getSummary()\n",
    "    idsList = wsn.getIds()\n",
    "    titlesList = wsn.getTitles()\n",
    "    authorsList = wsn.getAuthors()\n",
    "\n",
    "    history = pd.read_csv('news_data.csv', usecols=['time'], index_col='time')\n",
    "    for i, j, k, l, m in zip(timesList, summaryList, idsList, titlesList, authorsList):\n",
    "        if i not in history.index:\n",
    "            df['time'].append(i)\n",
    "            df['abstract'].append(j)\n",
    "            df['id'].append(k)\n",
    "            df['title'].append(l)\n",
    "            df['author'].append(m)\n",
    "        else:\n",
    "            print('repeat data')\n",
    "    for i in df['abstract']:\n",
    "        print(i)\n",
    "    df['title'] = trans.translateList(df['title'])\n",
    "    df['abstract'] = trans.translateList(df['abstract'])\n",
    "    print(df['abstract'])\n",
    "        "
   ]
  },
  {
   "cell_type": "code",
   "execution_count": 18,
   "id": "1020cf61",
   "metadata": {},
   "outputs": [
    {
     "name": "stdout",
     "output_type": "stream",
     "text": [
      "\"Work Plan\" proposes that from 2025 to 2026, the added value of the steel industry will grow by an average of around 4% per year, economic benefits will stabilize and rise, market supply and demand will become more balanced, industrial structure will be further optimized, effective supply capacity will continue to strengthen, and the overall goal is to significantly improve the level of green, low-carbon, and digital development. Implement precise capacity and production control, promote hierarchical classification management of steel enterprises, strictly prohibit the addition of production capacity, guide resource elements to gather towards advantageous enterprises, promote survival of the fittest through production control, and achieve a dynamic supply-demand balance.\n",
      "On the market front, individual stocks are more likely to fall than rise, with approximately 3,500 stocks in Shanghai, Shenzhen, and Beijing floating in the red, and a total trading volume of 1.35 trillion in the morning. The trading volume for Shanghai and Shenzhen in the first half of the day is 1.34 trillion, a decrease of 150 billion from the previous trading day. In terms of sectors, consumer electronics, storage chips, precious metals, and computing power led the gains; while tourism, film and television, photovoltaic equipment, and lithium mining led the declines.\n",
      "Huaxi Securities believes that Huawei has achieved TB-level ultra-high bandwidth by adopting multi-port aggregation and high-density packaging technology, with the Atlas 950 interconnection bandwidth reaching 16.3PB/s, which is 62 times that of NVIDIA NVL144. By using an equal architecture and unified protocol, it achieves a super-low latency of 2.1 microseconds, a 24% improvement compared to the current 3 microseconds. It introduces nanosecond-level fault detection, protection switching mechanisms, and high-reliability interconnection protocols to support long-distance interconnection between multiple server cabinets.\n",
      "The Chinese bond yield curve is \"steepening\"! The linkage between China's economic data, the Chinese bond yield curve, and assets hides key signals. Should we be alert or should we strategize now?\n",
      "Huatai Securities believes that under the impact of tariffs, the resilience of U.S. corporate profits is mainly due to multiple hedging factors. Although tariffs affect corporate profits by about 4%, the depreciation of the U.S. dollar boosts overseas income, pre-tariff stockpiling locks in low costs, and a decrease in labor costs provides a 5 percentage point buffer. Factors such as the acceleration of AI investment cycles, the \"big and beautiful\" act's fiscal easing, and the maintenance of historically high gross profit margins further support this.\n",
      "5\n"
     ]
    }
   ],
   "source": [
    "for i in df['abstract']:\n",
    "    print(i)\n",
    "print(len(df['abstract']))"
   ]
  }
 ],
 "metadata": {
  "kernelspec": {
   "display_name": "base",
   "language": "python",
   "name": "python3"
  },
  "language_info": {
   "codemirror_mode": {
    "name": "ipython",
    "version": 3
   },
   "file_extension": ".py",
   "mimetype": "text/x-python",
   "name": "python",
   "nbconvert_exporter": "python",
   "pygments_lexer": "ipython3",
   "version": "3.8.8"
  }
 },
 "nbformat": 4,
 "nbformat_minor": 5
}
