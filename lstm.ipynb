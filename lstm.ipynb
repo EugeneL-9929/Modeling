{
 "cells": [
  {
   "cell_type": "code",
   "execution_count": 1,
   "metadata": {},
   "outputs": [],
   "source": [
    "import numpy as np\n",
    "import pandas as pd\n",
    "import torch\n",
    "import torch.nn as nn\n",
    "import torch.optim as optim\n",
    "from torch.utils.data import DataLoader, TensorDataset\n",
    "%matplotlib inline\n",
    "import matplotlib.pyplot as plt"
   ]
  },
  {
   "cell_type": "code",
   "execution_count": 2,
   "metadata": {},
   "outputs": [],
   "source": [
    "dataset = pd.read_csv('Data/AAPL_stock_data.csv', usecols=['open', 'close', 'high', 'low', 'volume'])\n",
    "dataStock = dataset.copy()\n",
    "dataStock = dataStock.dropna()"
   ]
  },
  {
   "cell_type": "code",
   "execution_count": 3,
   "metadata": {},
   "outputs": [],
   "source": [
    "import sklearn\n",
    "import sklearn.preprocessing as processing\n",
    "dataStockNorm = dataStock.copy()\n",
    "properties = ['open', 'close', 'high', 'low', 'volume']\n",
    "scalerMinMax = processing.MinMaxScaler()\n",
    "for i in properties:\n",
    "    dataStockNorm[i] = scalerMinMax.fit_transform(dataStockNorm[i].values.reshape(-1, 1))"
   ]
  },
  {
   "cell_type": "code",
   "execution_count": 4,
   "metadata": {},
   "outputs": [
    {
     "name": "stdout",
     "output_type": "stream",
     "text": [
      "(6498, 20, 5)\n",
      "(5198, 19, 5)\n",
      "(5198, 5)\n",
      "(650, 5)\n",
      "(650, 19, 5)\n"
     ]
    }
   ],
   "source": [
    "validPercentage = 0.1\n",
    "testPercentage = 0.1\n",
    "sequenceLength = 20\n",
    "dataStockNorm_np = dataStockNorm.to_numpy()\n",
    "dataSequence = []\n",
    "for index in range(len(dataStockNorm_np) - sequenceLength):\n",
    "    dataSequence.append(dataStockNorm_np[index : index+sequenceLength, :])\n",
    "dataSequence = np.array(dataSequence)\n",
    "validSize = int(np.round(validPercentage * dataSequence.shape[0]))\n",
    "testSize = int(np.round(testPercentage * dataSequence.shape[0]))\n",
    "trainSize = dataSequence.shape[0] - validSize - testSize\n",
    "print(dataSequence.shape)\n",
    "xTrain = dataSequence[:trainSize, :-1, :]\n",
    "yTrain = dataSequence[:trainSize, -1, :]\n",
    "xValid = dataSequence[trainSize : trainSize+validSize, :-1, :]\n",
    "yValid = dataSequence[trainSize : trainSize+validSize, -1, :]\n",
    "xTest = dataSequence[trainSize+validSize:, :-1, :]\n",
    "yTest = dataSequence[trainSize+validSize:, -1, :]\n",
    "print(xTrain.shape)\n",
    "print(yTrain.shape)\n",
    "print(yValid.shape)\n",
    "print(xTest.shape)\n",
    "xTrain = torch.tensor(xTrain, dtype=torch.float32)\n",
    "yTrain = torch.tensor(yTrain, dtype=torch.float32)\n",
    "xValid = torch.tensor(xValid, dtype=torch.float32)\n",
    "yValid = torch.tensor(yValid, dtype=torch.float32)\n",
    "xTest = torch.tensor(xTest, dtype=torch.float32)\n",
    "yTest = torch.tensor(yTest, dtype=torch.float32)"
   ]
  },
  {
   "cell_type": "code",
   "execution_count": 5,
   "metadata": {},
   "outputs": [],
   "source": [
    "import NeuralNetworks.lstmStocks as lstmStocks\n",
    "inputSize = 5\n",
    "hiddenSize = 256\n",
    "layers = 2\n",
    "outputSize = 5\n",
    "steps = sequenceLength - 1\n",
    "criterion = nn.MSELoss(reduction='mean')\n",
    "trainDataset = TensorDataset(xTrain, yTrain)\n",
    "validDataset = TensorDataset(xValid, yValid)\n",
    "trainLoader = DataLoader(trainDataset, batch_size=50, shuffle=True, num_workers=2)\n",
    "validLoader = DataLoader(validDataset, batch_size=1, shuffle=True, num_workers=2)\n",
    "model = lstmStocks.StockLSTMModel(inputSize, hiddenSize, layers, outputSize, steps)\n",
    "optimizer = lstmStocks.StockLSTMOptimization(model, trainLoader, validLoader, criterion, 'cpu')\n",
    "optimizer.optimizerAdam(learningRate=0.01)"
   ]
  },
  {
   "cell_type": "code",
   "execution_count": 6,
   "metadata": {},
   "outputs": [
    {
     "name": "stdout",
     "output_type": "stream",
     "text": [
      "Epoch [0], Train Loss: 0.018833, Val Loss: 1.640764, \n",
      "Epoch [1], Train Loss: 0.001233, Val Loss: 0.072525, \n",
      "Epoch [2], Train Loss: 0.000890, Val Loss: 0.507358, \n",
      "Epoch [3], Train Loss: 0.000865, Val Loss: 0.046171, \n",
      "Epoch [4], Train Loss: 0.000774, Val Loss: 0.202300, \n",
      "Epoch [5], Train Loss: 0.000745, Val Loss: 0.064721, \n",
      "Epoch [6], Train Loss: 0.000724, Val Loss: 0.063560, \n",
      "Epoch [7], Train Loss: 0.000709, Val Loss: 0.042995, \n",
      "Epoch [8], Train Loss: 0.000739, Val Loss: 0.022923, \n",
      "Epoch [9], Train Loss: 0.000687, Val Loss: 0.134381, \n",
      "Epoch [10], Train Loss: 0.000703, Val Loss: 0.102051, \n",
      "Epoch [11], Train Loss: 0.000710, Val Loss: 0.053615, \n",
      "Epoch [12], Train Loss: 0.000681, Val Loss: 0.095694, \n",
      "Epoch [13], Train Loss: 0.000667, Val Loss: 0.255274, \n",
      "Epoch [14], Train Loss: 0.000687, Val Loss: 0.060065, \n",
      "Epoch [15], Train Loss: 0.000706, Val Loss: 0.037179, \n",
      "Epoch [16], Train Loss: 0.000687, Val Loss: 0.035100, \n",
      "Epoch [17], Train Loss: 0.000692, Val Loss: 0.115715, \n",
      "Epoch [18], Train Loss: 0.000671, Val Loss: 0.063487, \n",
      "Epoch [19], Train Loss: 0.000708, Val Loss: 0.032281, \n",
      "Epoch [20], Train Loss: 0.000692, Val Loss: 0.040434, \n",
      "Epoch [21], Train Loss: 0.000688, Val Loss: 0.041433, \n",
      "Epoch [22], Train Loss: 0.000678, Val Loss: 0.053806, \n",
      "Epoch [23], Train Loss: 0.000703, Val Loss: 0.232488, \n",
      "Epoch [24], Train Loss: 0.000677, Val Loss: 0.059827, \n",
      "Epoch [25], Train Loss: 0.000708, Val Loss: 0.134090, \n",
      "Epoch [26], Train Loss: 0.000690, Val Loss: 0.085895, \n",
      "Epoch [27], Train Loss: 0.000700, Val Loss: 0.057108, \n",
      "Epoch [28], Train Loss: 0.000684, Val Loss: 0.075062, \n",
      "Epoch [29], Train Loss: 0.000684, Val Loss: 0.046983, \n",
      "Epoch [30], Train Loss: 0.000673, Val Loss: 0.218872, \n",
      "Epoch [31], Train Loss: 0.000686, Val Loss: 0.033072, \n",
      "Epoch [32], Train Loss: 0.000691, Val Loss: 0.065073, \n",
      "Epoch [33], Train Loss: 0.000680, Val Loss: 0.075827, \n",
      "Epoch [34], Train Loss: 0.000695, Val Loss: 0.083941, \n",
      "Epoch [35], Train Loss: 0.000704, Val Loss: 0.118701, \n",
      "Epoch [36], Train Loss: 0.000660, Val Loss: 0.162391, \n",
      "Epoch [37], Train Loss: 0.000684, Val Loss: 0.031347, \n",
      "Epoch [38], Train Loss: 0.000632, Val Loss: 0.305101, \n",
      "Epoch [39], Train Loss: 0.000825, Val Loss: 0.055563, \n",
      "Epoch [40], Train Loss: 0.000714, Val Loss: 0.036788, \n",
      "Epoch [41], Train Loss: 0.000672, Val Loss: 0.055452, \n",
      "Epoch [42], Train Loss: 0.000649, Val Loss: 0.140652, \n",
      "Epoch [43], Train Loss: 0.000659, Val Loss: 0.402419, \n",
      "Epoch [44], Train Loss: 0.000661, Val Loss: 0.117860, \n",
      "Epoch [45], Train Loss: 0.000675, Val Loss: 0.044382, \n",
      "Epoch [46], Train Loss: 0.000676, Val Loss: 0.154828, \n",
      "Epoch [47], Train Loss: 0.000672, Val Loss: 0.156784, \n",
      "Epoch [48], Train Loss: 0.000638, Val Loss: 0.287030, \n",
      "Epoch [49], Train Loss: 0.000646, Val Loss: 0.221287, \n",
      "Epoch [50], Train Loss: 0.000660, Val Loss: 0.363800, \n",
      "Epoch [51], Train Loss: 0.000689, Val Loss: 0.041724, \n",
      "Epoch [52], Train Loss: 0.000649, Val Loss: 0.129367, \n",
      "Epoch [53], Train Loss: 0.000649, Val Loss: 0.296305, \n",
      "Epoch [54], Train Loss: 0.000661, Val Loss: 0.041929, \n",
      "Epoch [55], Train Loss: 0.000664, Val Loss: 0.272685, \n",
      "Epoch [56], Train Loss: 0.000681, Val Loss: 0.175453, \n",
      "Epoch [57], Train Loss: 0.000640, Val Loss: 0.095172, \n",
      "Epoch [58], Train Loss: 0.000622, Val Loss: 0.459113, \n",
      "Epoch [59], Train Loss: 0.000624, Val Loss: 0.080073, \n",
      "Epoch [60], Train Loss: 0.000645, Val Loss: 0.168462, \n",
      "Epoch [61], Train Loss: 0.000641, Val Loss: 0.068770, \n",
      "Epoch [62], Train Loss: 0.000670, Val Loss: 0.033317, \n",
      "Epoch [63], Train Loss: 0.000657, Val Loss: 0.144048, \n",
      "Epoch [64], Train Loss: 0.000632, Val Loss: 0.301270, \n",
      "Epoch [65], Train Loss: 0.000634, Val Loss: 0.234334, \n",
      "Epoch [66], Train Loss: 0.000640, Val Loss: 0.147715, \n",
      "Epoch [67], Train Loss: 0.000627, Val Loss: 0.278102, \n",
      "Epoch [68], Train Loss: 0.000628, Val Loss: 0.142707, \n",
      "Epoch [69], Train Loss: 0.000706, Val Loss: 0.093263, \n",
      "Epoch [70], Train Loss: 0.000660, Val Loss: 0.026653, \n",
      "Epoch [71], Train Loss: 0.000649, Val Loss: 0.134201, \n",
      "Epoch [72], Train Loss: 0.000645, Val Loss: 0.053446, \n",
      "Epoch [73], Train Loss: 0.000629, Val Loss: 0.085898, \n",
      "Epoch [74], Train Loss: 0.000661, Val Loss: 0.086133, \n",
      "Epoch [75], Train Loss: 0.000665, Val Loss: 0.205230, \n",
      "Epoch [76], Train Loss: 0.000653, Val Loss: 0.171273, \n",
      "Epoch [77], Train Loss: 0.000651, Val Loss: 0.145099, \n",
      "Epoch [78], Train Loss: 0.000621, Val Loss: 0.034291, \n",
      "Epoch [79], Train Loss: 0.000618, Val Loss: 0.029733, \n",
      "Epoch [80], Train Loss: 0.000627, Val Loss: 0.047282, \n",
      "Epoch [81], Train Loss: 0.000589, Val Loss: 0.076276, \n",
      "Epoch [82], Train Loss: 0.000634, Val Loss: 0.386812, \n",
      "Epoch [83], Train Loss: 0.000680, Val Loss: 0.154997, \n",
      "Epoch [84], Train Loss: 0.000628, Val Loss: 0.025784, \n",
      "Epoch [85], Train Loss: 0.000621, Val Loss: 0.101106, \n",
      "Epoch [86], Train Loss: 0.000617, Val Loss: 0.099963, \n",
      "Epoch [87], Train Loss: 0.000652, Val Loss: 0.044229, \n",
      "Epoch [88], Train Loss: 0.000649, Val Loss: 0.080857, \n",
      "Epoch [89], Train Loss: 0.000645, Val Loss: 0.082198, \n",
      "Epoch [90], Train Loss: 0.000605, Val Loss: 0.105157, \n",
      "Epoch [91], Train Loss: 0.000604, Val Loss: 0.129309, \n",
      "Epoch [92], Train Loss: 0.000624, Val Loss: 0.078633, \n",
      "Epoch [93], Train Loss: 0.000628, Val Loss: 0.087353, \n",
      "Epoch [94], Train Loss: 0.000634, Val Loss: 0.138678, \n",
      "Epoch [95], Train Loss: 0.000623, Val Loss: 0.103825, \n",
      "Epoch [96], Train Loss: 0.000628, Val Loss: 0.204344, \n",
      "Epoch [97], Train Loss: 0.000620, Val Loss: 0.054185, \n",
      "Epoch [98], Train Loss: 0.000598, Val Loss: 0.063297, \n",
      "Epoch [99], Train Loss: 0.000600, Val Loss: 0.064497, \n"
     ]
    },
    {
     "data": {
      "image/png": "[encoded data removed]",
      "text/plain": [
       "<Figure size 432x288 with 1 Axes>"
      ]
     },
     "metadata": {
      "needs_background": "light"
     },
     "output_type": "display_data"
    }
   ],
   "source": [
    "for i in range(100):\n",
    "    train_loss = optimizer.trainEpoch()\n",
    "    valid_loss = optimizer.validEpoch()\n",
    "    print(f'Epoch [{i}], '\n",
    "        f'Train Loss: {train_loss:.6f}, '\n",
    "        f'Val Loss: {valid_loss:.6f}, ')\n",
    "    plt.scatter(i, train_loss, c='r')\n",
    "    plt.scatter(i, valid_loss, c='b')"
   ]
  },
  {
   "cell_type": "code",
   "execution_count": 14,
   "metadata": {},
   "outputs": [
    {
     "name": "stdout",
     "output_type": "stream",
     "text": [
      "torch.Size([650, 5])\n"
     ]
    }
   ],
   "source": [
    "prediction = model(xTest)\n",
    "print(prediction.shape)"
   ]
  },
  {
   "cell_type": "markdown",
   "metadata": {},
   "source": [
    "We can see that the generated results from trainned model basically match Test set with a constant bias."
   ]
  },
  {
   "cell_type": "code",
   "execution_count": 15,
   "metadata": {},
   "outputs": [
    {
     "data": {
      "text/plain": [
       "[<matplotlib.lines.Line2D at 0x2a00031d280>]"
      ]
     },
     "execution_count": 15,
     "metadata": {},
     "output_type": "execute_result"
    },
    {
     "data": {
      "image/png": "[encoded data removed]",
      "text/plain": [
       "<Figure size 432x288 with 1 Axes>"
      ]
     },
     "metadata": {
      "needs_background": "light"
     },
     "output_type": "display_data"
    }
   ],
   "source": [
    "prediction_np = prediction.detach().numpy()\n",
    "plt.plot(np.linspace(0, 1, prediction_np.shape[0]), prediction_np[:, 2])\n",
    "plt.plot(np.linspace(0, 1, prediction_np.shape[0]), yTest[:, 2])"
   ]
  }
 ],
 "metadata": {
  "kernelspec": {
   "display_name": "base",
   "language": "python",
   "name": "python3"
  },
  "language_info": {
   "codemirror_mode": {
    "name": "ipython",
    "version": 3
   },
   "file_extension": ".py",
   "mimetype": "text/x-python",
   "name": "python",
   "nbconvert_exporter": "python",
   "pygments_lexer": "ipython3",
   "version": "3.8.8"
  }
 },
 "nbformat": 4,
 "nbformat_minor": 2
}
