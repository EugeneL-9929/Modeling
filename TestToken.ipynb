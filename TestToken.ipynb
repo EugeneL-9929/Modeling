{
 "cells": [
  {
   "cell_type": "code",
   "execution_count": 19,
   "id": "567638e4",
   "metadata": {},
   "outputs": [
    {
     "name": "stderr",
     "output_type": "stream",
     "text": [
      "[nltk_data] Downloading package punkt to\n",
      "[nltk_data]     C:\\Users\\yukze\\AppData\\Roaming\\nltk_data...\n",
      "[nltk_data]   Package punkt is already up-to-date!\n"
     ]
    }
   ],
   "source": [
    "import pandas as pd\n",
    "import nltk\n",
    "nltk.download('punkt')\n",
    "newsDf = pd.read_csv('news_data.csv')\n",
    "newsDfcn = pd.read_csv('news_data_cn.csv')"
   ]
  },
  {
   "cell_type": "code",
   "execution_count": 20,
   "id": "d2e28e9d",
   "metadata": {},
   "outputs": [],
   "source": [
    "titles = newsDf['title']\n",
    "abstracts = newsDf['abstract']\n",
    "titles_cn = newsDfcn['title']\n",
    "abstracts_cn = newsDfcn['abstract']"
   ]
  },
  {
   "cell_type": "code",
   "execution_count": null,
   "id": "82114952",
   "metadata": {},
   "outputs": [
    {
     "name": "stdout",
     "output_type": "stream",
     "text": [
      "this year the hang_seng technology index surged by 41 outperforming the 17 increase of the nasdaq index the breakthrough of large ai models like deepseek at the beginning of the year became a key turning point followed by market recognition of ai products from alibaba tencent and baidu \n",
      "['this', 'year', 'the', 'hang_seng', 'technology', 'index', 'surged', 'by', '41', 'outperforming', 'the', '17', 'increase', 'of', 'the', 'nasdaq', 'index', 'the', 'breakthrough', 'of', 'large', 'ai', 'models', 'like', 'deepseek', 'at', 'the', 'beginning', 'of', 'the', 'year', 'became', 'a', 'key', 'turning', 'point', 'followed', 'by', 'market', 'recognition', 'of', 'ai', 'products', 'from', 'alibaba', 'tencent', 'and', 'baidu']\n",
      "{'i', 'for', 'was', \"i'm\", 'any', 'had', \"it'll\", \"he'd\", 'an', 'his', 'who', \"hasn't\", 'by', \"won't\", \"should've\", 'my', 'yourselves', 'ma', 'such', 'weren', \"you'd\", \"shan't\", 'their', 'yours', 'only', 'couldn', 'has', 'is', 'does', 'just', 'further', \"mustn't\", \"we've\", 'what', 'me', 'more', 'am', 'being', \"mightn't\", 'between', 'its', 'itself', 'through', 'against', \"you'll\", 'ain', 'because', 'hadn', 'but', 'the', 'with', 'wouldn', 'you', 'have', \"she's\", 'above', 'off', 'shan', 'she', 'then', 'about', 'here', 'most', \"he'll\", \"i'd\", 'won', 're', \"i'll\", 'didn', 'few', \"aren't\", 'from', 'her', 'should', 'doing', \"that'll\", 'whom', 'he', \"isn't\", 'were', 'and', 'both', 't', 'to', \"we'd\", 'can', 'so', 'mustn', 'doesn', \"shouldn't\", \"we're\", 'hers', 'in', 'or', \"he's\", 'aren', \"i've\", \"she'll\", 'hasn', 'do', 'herself', 'it', \"you've\", 's', 'down', 'during', 'until', 'they', \"weren't\", 'did', 'if', \"doesn't\", \"it's\", 'ourselves', 'once', 'y', 'other', 'himself', 'isn', \"it'd\", 'be', \"couldn't\", 'those', 'at', 'been', \"needn't\", 'themselves', 'theirs', 've', 'which', 'after', 'm', \"she'd\", 'are', 'shouldn', \"they'd\", 'these', 'up', \"haven't\", 'before', \"we'll\", 'own', 'don', 'him', 'now', \"don't\", 'into', 'myself', 'having', 'yourself', 'we', \"wasn't\", 'too', 'where', \"didn't\", 'd', 'needn', 'will', 'no', 'some', 'each', \"they've\", 'this', 'out', 'as', 'll', 'o', 'mightn', 'why', \"hadn't\", \"wouldn't\", 'our', 'on', 'under', 'of', 'same', 'wasn', 'ours', 'not', 'than', \"they're\", 'below', 'nor', 'that', 'your', 'when', \"you're\", 'over', 'them', \"they'll\", 'how', 'there', 'very', 'haven', 'while', 'again', 'a', 'all'}\n",
      "['year', 'hang_seng', 'technology', 'index', 'surged', '41', 'outperforming', '17', 'increase', 'nasdaq', 'index', 'breakthrough', 'large', 'ai', 'models', 'like', 'deepseek', 'beginning', 'year', 'became', 'key', 'turning', 'point', 'followed', 'market', 'recognition', 'ai', 'products', 'alibaba', 'tencent', 'baidu']\n",
      "中国/科技股/\"/狂飙/\"/：/AI/加速/驱动/下/，/恒科/今年/大幅/跑/赢/纳斯达克\n"
     ]
    }
   ],
   "source": [
    "import nltk\n",
    "import jieba\n",
    "import re\n",
    "negationWords = {\n",
    "    'no', 'not', 'nor', 'never', 'none', 'noone', 'nothing', 'nowhere',\n",
    "    'don', \"don't\", 'ain', 'aren', \"aren't\", 'couldn', \"couldn't\", 'didn', \"didn't\",\n",
    "    'doesn', \"doesn't\", 'hadn', \"hadn't\", 'hasn', \"hasn't\", 'haven', \"haven't\",\n",
    "    'isn', \"isn't\", 'mightn', \"mightn't\", 'mustn', \"mustn't\", 'needn', \"needn't\",\n",
    "    'shan', \"shan't\", 'shouldn', \"shouldn't\", 'wasn', \"wasn't\", 'weren', \"weren't\",\n",
    "    'won', \"won't\", 'wouldn', \"wouldn't\"\n",
    "}\n",
    "text = re.sub('[^\\w]+', ' ', abstracts[0]) \n",
    "text = text.lower()\n",
    "text = text.replace('hang seng', 'hang seng'.replace(' ', '_'))\n",
    "print(text)\n",
    "tokenized = nltk.tokenize.word_tokenize(text)\n",
    "print(tokenized)\n",
    "stopWords = set(nltk.corpus.stopwords.words('english'))\n",
    "tokenized = [word for word in tokenized if word not in stopWords]\n",
    "print(tokenized)\n",
    "tokenized_cn = jieba.cut(titles_cn[0], cut_all=False)\n",
    "print('/'.join(tokenized_cn))"
   ]
  },
  {
   "cell_type": "code",
   "execution_count": 29,
   "id": "806e5efa",
   "metadata": {},
   "outputs": [
    {
     "name": "stdout",
     "output_type": "stream",
     "text": [
      "[('Chinese', 'JJ'), ('tech', 'NN'), ('stocks', 'NNS'), ('``', '``'), ('surge', 'NN'), (\"''\", \"''\"), (':', ':'), ('Driven', 'VBN'), ('by', 'IN'), ('accelerated', 'JJ'), ('AI', 'NNP'), (',', ','), ('Hikvision', 'NNP'), ('outperforms', 'VBZ'), ('Nasdaq', 'NNP'), ('significantly', 'RB'), ('this', 'DT'), ('year', 'NN'), ('.', '.')]\n"
     ]
    }
   ],
   "source": [
    "print(nltk.pos_tag(tokenized))"
   ]
  }
 ],
 "metadata": {
  "kernelspec": {
   "display_name": "base",
   "language": "python",
   "name": "python3"
  },
  "language_info": {
   "codemirror_mode": {
    "name": "ipython",
    "version": 3
   },
   "file_extension": ".py",
   "mimetype": "text/x-python",
   "name": "python",
   "nbconvert_exporter": "python",
   "pygments_lexer": "ipython3",
   "version": "3.9.23"
  }
 },
 "nbformat": 4,
 "nbformat_minor": 5
}
